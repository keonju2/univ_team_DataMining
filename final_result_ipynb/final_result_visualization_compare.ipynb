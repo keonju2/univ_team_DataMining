{
 "cells": [
  {
   "cell_type": "code",
   "execution_count": null,
   "metadata": {},
   "outputs": [],
   "source": []
  },
  {
   "cell_type": "markdown",
   "metadata": {},
   "source": [
    "## result 3D visualization"
   ]
  },
  {
   "cell_type": "code",
   "execution_count": 1,
   "metadata": {
    "id": "oZLTnSqJU8IO"
   },
   "outputs": [],
   "source": [
    "import pandas as pd\n",
    "from matplotlib import pyplot as plt\n",
    "\n",
    "lstm = pd.read_csv('../temp_result/model_result/result2.csv')"
   ]
  },
  {
   "cell_type": "code",
   "execution_count": 2,
   "metadata": {
    "id": "pIDluPaUVYAL"
   },
   "outputs": [],
   "source": [
    "lstm = lstm.set_index('Timestamp')"
   ]
  },
  {
   "cell_type": "code",
   "execution_count": 3,
   "metadata": {
    "id": "v6vojFEeYvJw"
   },
   "outputs": [],
   "source": [
    "l = pd.DataFrame()\n",
    "\n",
    "\n",
    "for i in lstm.columns:\n",
    "  if 'Anomaly' in i:\n",
    "    l = pd.concat([l,lstm[i]],axis=1)"
   ]
  },
  {
   "cell_type": "code",
   "execution_count": 4,
   "metadata": {
    "id": "7bsvgVrkY6aT"
   },
   "outputs": [],
   "source": [
    "lstm = l.astype(int)"
   ]
  },
  {
   "cell_type": "code",
   "execution_count": 5,
   "metadata": {
    "id": "4wevDrAOgVns"
   },
   "outputs": [],
   "source": [
    "test = pd.read_csv('../temp_result/model_result/test.csv')"
   ]
  },
  {
   "cell_type": "code",
   "execution_count": 6,
   "metadata": {
    "id": "Chx1xCrggplh"
   },
   "outputs": [],
   "source": [
    "test = test.set_index('Timestamp')"
   ]
  },
  {
   "cell_type": "code",
   "execution_count": 7,
   "metadata": {
    "id": "f6Qn4RyVgzbY"
   },
   "outputs": [],
   "source": [
    "info_data_test = pd.concat([test.loc[:,[i for i in test.columns.values.tolist() if 'INFO' in i]], lstm['infoAnomaly']],axis=1)\n",
    "login_1_data_test = pd.concat([test.loc[:,[i for i in test.columns.values.tolist() if 'LOGIN-01' in i]] ,lstm['login_1Anomaly']],axis=1)\n",
    "login_2_data_test = pd.concat([test.loc[:,[i for i in test.columns.values.tolist() if 'LOGIN-02' in i]] , lstm['login_2Anomaly']],axis=1)\n",
    "login_3_data_test = pd.concat([test.loc[:,[i for i in test.columns.values.tolist() if 'LOGIN-03' in i]] ,lstm['login_3Anomaly']],axis=1)\n",
    "login_4_data_test = pd.concat([test.loc[:,[i for i in test.columns.values.tolist() if 'LOGIN-04' in i]],lstm['login_4Anomaly']],axis=1)\n",
    "login_5_data_test = pd.concat([test.loc[:,[i for i in test.columns.values.tolist() if 'LOGIN-05' in i]] ,lstm['login_5Anomaly']],axis=1)\n",
    "menu_1_data_test = pd.concat([test.loc[:,[i for i in test.columns.values.tolist() if 'MENU-01' in i]] ,lstm['menu_1Anomaly']],axis=1)\n",
    "menu_2_data_test = pd.concat([test.loc[:,[i for i in test.columns.values.tolist() if 'MENU-02' in i]] ,lstm['menu_2Anomaly']],axis=1)\n",
    "menu_3_data_test = pd.concat([test.loc[:,[i for i in test.columns.values.tolist() if 'MENU-03' in i]] ,lstm['menu_3Anomaly']],axis=1)\n",
    "menu_4_data_test = pd.concat([test.loc[:,[i for i in test.columns.values.tolist() if 'MENU-04' in i]] ,lstm['menu_4Anomaly']],axis=1)"
   ]
  },
  {
   "cell_type": "code",
   "execution_count": 8,
   "metadata": {
    "id": "QKH9fgH3lJkL"
   },
   "outputs": [],
   "source": [
    "info_data_test['ratio'] = info_data_test.iloc[:,1]/info_data_test.iloc[:,0]\n",
    "login_1_data_test['ratio'] = login_1_data_test.iloc[:,1]/login_1_data_test.iloc[:,0]\n",
    "login_2_data_test['ratio'] = login_2_data_test.iloc[:,1]/login_2_data_test.iloc[:,0]\n",
    "login_3_data_test['ratio'] = login_3_data_test.iloc[:,1]/login_3_data_test.iloc[:,0]\n",
    "login_4_data_test['ratio'] = login_4_data_test.iloc[:,1]/login_4_data_test.iloc[:,0]\n",
    "login_5_data_test['ratio'] = login_5_data_test.iloc[:,1]/login_5_data_test.iloc[:,0]\n",
    "menu_1_data_test['ratio'] = menu_1_data_test.iloc[:,1]/menu_1_data_test.iloc[:,0]\n",
    "menu_2_data_test['ratio'] = menu_2_data_test.iloc[:,1]/menu_2_data_test.iloc[:,0]\n",
    "menu_3_data_test['ratio'] = menu_3_data_test.iloc[:,1]/menu_3_data_test.iloc[:,0]\n",
    "menu_4_data_test['ratio'] = menu_4_data_test.iloc[:,1]/menu_4_data_test.iloc[:,0]"
   ]
  },
  {
   "cell_type": "code",
   "execution_count": null,
   "metadata": {
    "id": "I4ByIJL-w2ie"
   },
   "outputs": [],
   "source": [
    "import plotly.express as px\n",
    "\n",
    "def view3d(data,name):\n",
    "\n",
    "  fig = px.scatter_3d(data,\n",
    "                    x=data.iloc[:,0],\n",
    "                    y=data.iloc[:,2],\n",
    "                    z=data.iloc[:,4], color=data.iloc[:,3],\n",
    "                    title = name)\n",
    "  fig.show()"
   ]
  },
  {
   "cell_type": "code",
   "execution_count": null,
   "metadata": {
    "id": "C1h1Bx4900iM"
   },
   "outputs": [],
   "source": [
    "data_list = [info_data_test, login_1_data_test,login_2_data_test,login_3_data_test,login_4_data_test,login_5_data_test,menu_1_data_test,menu_2_data_test,menu_3_data_test,menu_4_data_test]\n",
    "data_list_name = ['info_data_test', 'login_1_data_test','login_2_data_test','login_3_data_test','login_4_data_test','login_5_data_test','menu_1_data_test','menu_2_data_test','menu_3_data_test','menu_4_data_test']"
   ]
  },
  {
   "cell_type": "code",
   "execution_count": null,
   "metadata": {
    "colab": {
     "base_uri": "https://localhost:8080/",
     "height": 1000
    },
    "id": "5egIExmCAqR8",
    "outputId": "62acba84-1178-4785-c2f6-7b8f15d8c710"
   },
   "outputs": [],
   "source": [
    "for i in range(len(data_list)): # 3D 시각화\n",
    "  view3d(data_list[i],data_list_name[i])"
   ]
  },
  {
   "cell_type": "code",
   "execution_count": null,
   "metadata": {
    "colab": {
     "base_uri": "https://localhost:8080/"
    },
    "id": "T_dOpuOS88xX",
    "outputId": "2bdce329-b606-421d-9c4b-e4ee03095871"
   },
   "outputs": [],
   "source": [
    "import os\n",
    "import pandas as pd\n",
    "Dir = r'/content/drive/MyDrive/dmp/fraction_ratio'\n",
    "fileEx = r'.csv'      # file -> os.path.join(Dir,file)\n",
    "csv_list = [os.path.join(Dir,file) for file in os.listdir(Dir) if file.endswith(fileEx)] \n",
    "csv_list"
   ]
  },
  {
   "cell_type": "markdown",
   "metadata": {
    "id": "rsUIRBNyl83O"
   },
   "source": [
    "## 방법론별 결과값 비교\n",
    "\n"
   ]
  },
  {
   "cell_type": "code",
   "execution_count": null,
   "metadata": {
    "colab": {
     "base_uri": "https://localhost:8080/"
    },
    "id": "TErLQQJXODQS",
    "outputId": "4d68cb89-bcb1-4b51-aa7b-da173ee8bb45"
   },
   "outputs": [],
   "source": [
    "data_list = [login_3_data_test, info_data_test, login_2_data_test,login_1_data_test,login_4_data_test,login_5_data_test,menu_1_data_test,menu_2_data_test,menu_3_data_test,menu_4_data_test]\n",
    "\n",
    "for i in range(len(data_list)):\n",
    "  k = pd.read_csv(csv_list[i])\n",
    "  k = k.set_index('Timestamp')\n",
    "  data = k['kmeans_anomaly'] + k['IF_anomaly'] + data_list[i].iloc[:,3]\n",
    "\n",
    "  print(data.value_counts())\n",
    "  print()\n",
    "\n"
   ]
  },
  {
   "cell_type": "code",
   "execution_count": null,
   "metadata": {
    "colab": {
     "base_uri": "https://localhost:8080/"
    },
    "id": "gFpOnxHfYHDm",
    "outputId": "df39a56c-4852-49e7-ed18-5d75c5efc3db"
   },
   "outputs": [],
   "source": [
    "for i in range(len(data_list)):\n",
    "  k = pd.read_csv(csv_list[i])\n",
    "  k = k.set_index('Timestamp')\n",
    "  data = k['kmeans_anomaly'] + k['IF_anomaly']\n",
    "\n",
    "  print(data.value_counts())\n",
    "  print()"
   ]
  },
  {
   "cell_type": "code",
   "execution_count": null,
   "metadata": {
    "colab": {
     "base_uri": "https://localhost:8080/"
    },
    "id": "hn-ROqmdYDkM",
    "outputId": "bf2732fd-12c6-4fde-c05f-0ed4729d5699"
   },
   "outputs": [],
   "source": [
    "for i in range(len(data_list)):\n",
    "  k = pd.read_csv(csv_list[i])\n",
    "  k = k.set_index('Timestamp')\n",
    "  data = data_list[i].iloc[:,3] + k['IF_anomaly']\n",
    "\n",
    "  print(data.value_counts())\n",
    "  print()"
   ]
  },
  {
   "cell_type": "code",
   "execution_count": null,
   "metadata": {
    "colab": {
     "base_uri": "https://localhost:8080/"
    },
    "id": "5S2J84oAUXu2",
    "outputId": "cdff3963-77ba-48ff-953a-c90bf132e0b3"
   },
   "outputs": [],
   "source": [
    "for i in range(len(data_list)):\n",
    "  k = pd.read_csv(csv_list[i])\n",
    "  k = k.set_index('Timestamp')\n",
    "  data = k['kmeans_anomaly'] + data_list[i].iloc[:,3]\n",
    "\n",
    "  print(data.value_counts())\n",
    "  print()"
   ]
  },
  {
   "cell_type": "code",
   "execution_count": null,
   "metadata": {
    "colab": {
     "base_uri": "https://localhost:8080/"
    },
    "id": "oUeu3d2wcdpw",
    "outputId": "08f88d92-d869-4df4-ffbf-11b5f93d9315"
   },
   "outputs": [],
   "source": [
    "for i in range(len(data_list)):\n",
    "  k = pd.read_csv(csv_list[i])\n",
    "  k = k.set_index('Timestamp')\n",
    "  data = k['kmeans_anomaly'] - data_list[i].iloc[:,3]\n",
    "\n",
    "  print(data.value_counts())\n",
    "  print()"
   ]
  },
  {
   "cell_type": "code",
   "execution_count": null,
   "metadata": {
    "colab": {
     "base_uri": "https://localhost:8080/"
    },
    "id": "TcJjCnkhce-Y",
    "outputId": "110075a3-63bc-49bb-b729-767ad8a66e34"
   },
   "outputs": [],
   "source": [
    "for i in range(len(data_list)):\n",
    "  k = pd.read_csv(csv_list[i])\n",
    "  k = k.set_index('Timestamp')\n",
    "  data = k['kmeans_anomaly'] - k['IF_anomaly']\n",
    "\n",
    "  print(data.value_counts())\n",
    "  print()"
   ]
  },
  {
   "cell_type": "code",
   "execution_count": null,
   "metadata": {
    "colab": {
     "base_uri": "https://localhost:8080/"
    },
    "id": "YrsopzYvcg7u",
    "outputId": "2c52c41e-34fd-4b90-824d-9860c3a53f0d"
   },
   "outputs": [],
   "source": [
    "for i in range(len(data_list)):\n",
    "  k = pd.read_csv(csv_list[i])\n",
    "  k = k.set_index('Timestamp')\n",
    "  data = k['IF_anomaly'] - data_list[i].iloc[:,3]\n",
    "\n",
    "  print(data.value_counts())\n",
    "  print()"
   ]
  }
 ],
 "metadata": {
  "colab": {
   "collapsed_sections": [],
   "machine_shape": "hm",
   "name": "lstm 시각화 및 결과값 비교.ipynb",
   "provenance": []
  },
  "kernelspec": {
   "display_name": "Python 3 (ipykernel)",
   "language": "python",
   "name": "python3"
  },
  "language_info": {
   "codemirror_mode": {
    "name": "ipython",
    "version": 3
   },
   "file_extension": ".py",
   "mimetype": "text/x-python",
   "name": "python",
   "nbconvert_exporter": "python",
   "pygments_lexer": "ipython3",
   "version": "3.8.11"
  }
 },
 "nbformat": 4,
 "nbformat_minor": 1
}
